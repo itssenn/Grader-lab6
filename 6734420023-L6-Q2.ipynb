{
 "cells": [
  {
   "cell_type": "markdown",
   "metadata": {
    "deletable": false,
    "editable": false,
    "nbgrader": {
     "cell_type": "markdown",
     "checksum": "9f41ee166a70234862ea51ac5b5cfa65",
     "grade": false,
     "grade_id": "cell-dbf37dcea5d7dc5c",
     "locked": true,
     "schema_version": 3,
     "solution": false,
     "task": false
    }
   },
   "source": [
    "## Q2\n",
    "- เขียนฟังก์ชัน get_dict(file_name) โดยรับพารามิเตอร์เป็น file_name ที่สร้าง dictionary จากการอ่านไฟล์ conversation.txt (มีไฟล์ให้)  <br>\n",
    "    - จากนั้นนับความถี่ของแต่ละคำที่ปรากฏในไฟล์ โดยแต่ละคำคั่นด้วยช่องว่าง และให้ตัด **: ? , .** ที่อยู่หน้าหรือหลังคำ \n",
    "ออกจากข้อความด้วย <br> และแสดงผลลัพธ์เป็นข้อมูลใน dictionary ตามตัวอย่างการทำงาน "
   ]
  },
  {
   "cell_type": "markdown",
   "metadata": {
    "deletable": false,
    "editable": false,
    "nbgrader": {
     "cell_type": "markdown",
     "checksum": "058df05370f3b6125aa67755715d1352",
     "grade": false,
     "grade_id": "cell-7ae57c7b0fc2869d",
     "locked": true,
     "schema_version": 3,
     "solution": false,
     "task": false
    }
   },
   "source": [
    "### ตัวอย่างการทำงาน: \n",
    "get_dict(**'conversation1.txt'**) <br>\n",
    "{'Tom': 2, 'Hi': 1, 'I': 2, 'am': 2, 'Ana': 2}"
   ]
  },
  {
   "cell_type": "markdown",
   "metadata": {
    "deletable": false,
    "editable": false,
    "nbgrader": {
     "cell_type": "markdown",
     "checksum": "c2bdb28e0e5217454e33e4b0c723edf0",
     "grade": false,
     "grade_id": "cell-49124b4536819ee4",
     "locked": true,
     "schema_version": 3,
     "solution": false,
     "task": false
    }
   },
   "source": [
    "### ตัวอย่างการทำงาน: \n",
    "get_dict(**'conversation2.txt'**) <br>\n",
    "{'Mr': 3, 'Bean': 3, 'Good': 2, 'morning': 2, 'Mrs': 2, 'Jones': 2, 'How': 1, 'are': 1, 'you': 1, \"I'm\": 1, 'fine': 1, 'Thanks': 1}"
   ]
  },
  {
   "cell_type": "markdown",
   "metadata": {
    "deletable": false,
    "editable": false,
    "nbgrader": {
     "cell_type": "markdown",
     "checksum": "e8f606be38974057f8a781058390b6b3",
     "grade": false,
     "grade_id": "cell-2ea830a3179a93b7",
     "locked": true,
     "schema_version": 3,
     "solution": false,
     "task": false
    }
   },
   "source": [
    "### ตัวอย่างการทำงาน: \n",
    "get_dict(**'conversation3.txt'**) <br>\n",
    "{'Tom': 3, \"It's\": 2, 'an': 1, 'ugly': 1, 'day': 1, 'today': 2, 'Jerry': 2, 'I': 2, 'know': 1, 'think': 1, 'it': 2, 'may': 1, 'rain': 2, 'the': 1, 'middle': 1, 'of': 1, 'summer': 1, \"shouldn't\": 1, 'That': 1, 'would': 1, 'be': 1, 'weird': 1, 'Yeah': 1, 'especially': 1, 'since': 1, \"it's\": 1, 'ninety': 1, 'degrees': 1, 'outside': 1}"
   ]
  },
  {
   "cell_type": "code",
   "execution_count": 271,
   "metadata": {
    "deletable": false,
    "nbgrader": {
     "cell_type": "code",
     "checksum": "194d6fb0d40a408de595cc2ea25896d0",
     "grade": false,
     "grade_id": "name",
     "locked": false,
     "schema_version": 3,
     "solution": true
    }
   },
   "outputs": [],
   "source": [
    "def get_dict(file_name):\n",
    "    ''' สร้าง dictionary จากไฟล์ file_name'''\n",
    "    # YOUR CODE HERE\n",
    "    \n",
    "    f = open(file_name)\n",
    "    word = []\n",
    "    for i in f:\n",
    "        text = i.split()\n",
    "        word = word + text\n",
    "\n",
    "    for i in range(len(word)):\n",
    "        nt = ''\n",
    "        for j in word[i]:\n",
    "            if j not in [':', ',', '.', '?']:\n",
    "                nt = nt + j\n",
    "        word[i] = nt\n",
    "\n",
    "    dict = {}\n",
    "    for i in word:\n",
    "        if i not in dict:\n",
    "            dict[i] = 0\n",
    "\n",
    "    for i in word:\n",
    "        if i in dict:\n",
    "            dict[i] += 1\n",
    "    return(dict)"
   ]
  },
  {
   "cell_type": "code",
   "execution_count": 273,
   "metadata": {},
   "outputs": [
    {
     "data": {
      "text/plain": [
       "{'Mr': 3,\n",
       " 'Bean': 3,\n",
       " 'Good': 2,\n",
       " 'morning': 2,\n",
       " 'Mrs': 2,\n",
       " 'Jones': 2,\n",
       " 'How': 1,\n",
       " 'are': 1,\n",
       " 'you': 1,\n",
       " \"I'm\": 1,\n",
       " 'fine': 1,\n",
       " 'Thanks': 1}"
      ]
     },
     "execution_count": 273,
     "metadata": {},
     "output_type": "execute_result"
    }
   ],
   "source": [
    "get_dict('conversation2.txt')"
   ]
  },
  {
   "cell_type": "code",
   "execution_count": 275,
   "metadata": {},
   "outputs": [
    {
     "name": "stdout",
     "output_type": "stream",
     "text": [
      "ok\n"
     ]
    }
   ],
   "source": [
    "'''ตรวจสอบผลลัพธ์ของโปรแกรมด้วยการรันที่ cell นี้'''\n",
    "'''ตัวอย่าง get_dict(\"ใส่ชื่อไฟล์.txt\")'''\n",
    "get_dict(\"conversation1.txt\")\n",
    "print('ok')"
   ]
  },
  {
   "cell_type": "code",
   "execution_count": 277,
   "metadata": {
    "deletable": false,
    "editable": false,
    "nbgrader": {
     "cell_type": "code",
     "checksum": "6cc8027eee16d2f3a95fa4130e9c1a4d",
     "grade": true,
     "grade_id": "cell-6767d685a0f9e628",
     "locked": true,
     "points": 1,
     "schema_version": 3,
     "solution": false,
     "task": false
    }
   },
   "outputs": [
    {
     "name": "stdout",
     "output_type": "stream",
     "text": [
      "ok\n"
     ]
    }
   ],
   "source": [
    "'''ตรวจสอบการแสดงผลลัพธ์อย่างง่าย'''\n",
    "assert get_dict('conversation1.txt') == {'Tom': 2, 'Hi': 1, 'I': 2, 'am': 2, 'Ana': 2}\n",
    "print('ok')"
   ]
  },
  {
   "cell_type": "code",
   "execution_count": 279,
   "metadata": {
    "deletable": false,
    "editable": false,
    "nbgrader": {
     "cell_type": "code",
     "checksum": "4e38686be0d21fc4567fc8791ddd6060",
     "grade": true,
     "grade_id": "cell-b082fbfab4c14322",
     "locked": true,
     "points": 1,
     "schema_version": 3,
     "solution": false,
     "task": false
    }
   },
   "outputs": [
    {
     "name": "stdout",
     "output_type": "stream",
     "text": [
      "ok\n"
     ]
    }
   ],
   "source": [
    "'''ตรวจสอบผลการคำนวณและการแสดงผลลัพธ์ให้เหมือนกับโจทย์ที่กำหนดให้'''\n",
    "assert get_dict('conversation1.txt') == {'Tom': 2, 'Hi': 1, 'I': 2, 'am': 2, 'Ana': 2}\n",
    "assert get_dict('conversation2.txt') == {'Mr': 3, 'Bean': 3, 'Good': 2, 'morning': 2, 'Mrs': 2, 'Jones': 2, 'How': 1, 'are': 1, 'you': 1, \"I'm\": 1, 'fine': 1, 'Thanks': 1}\n",
    "print('ok')"
   ]
  },
  {
   "cell_type": "code",
   "execution_count": 281,
   "metadata": {
    "deletable": false,
    "editable": false,
    "nbgrader": {
     "cell_type": "code",
     "checksum": "33109fb01793ad19a92ea989f8433f7e",
     "grade": true,
     "grade_id": "cell-4edb7a354d38a7f0",
     "locked": true,
     "points": 1,
     "schema_version": 3,
     "solution": false,
     "task": false
    }
   },
   "outputs": [
    {
     "data": {
      "text/plain": [
       "'เทสลับ'"
      ]
     },
     "execution_count": 281,
     "metadata": {},
     "output_type": "execute_result"
    }
   ],
   "source": [
    "'''เทสลับ'''"
   ]
  },
  {
   "cell_type": "code",
   "execution_count": null,
   "metadata": {},
   "outputs": [],
   "source": []
  }
 ],
 "metadata": {
  "BondSan": "1c5a8fb33f56ba4ef361ceba4da8149063e2dbc4823970e16f69b1384fd70d15fb074ec05dcec4eb52da3e260619df12d4e3b363fe1eb400605bdb4b94d0f94cf138bf5fbb896b63f7ba05c5b09db5e9c6cbf26e738403cf44aded49bebffe8715dd2136c8167a2d6892e9a1615f8945c0630b98dc65aec1c61b0f389f9f0af60192870e12ec658a135ab3fe98e7a006cd8eadf7f45252aba837a913b64ac2e9a763b4ad61fb33ef520849dcd6ed3fa04e12a047e4978036098eb6beaacd364f16139484e64e74ef14a0995639aadfc75abd71b3c9d938fc2d126c10809fc172aa90651662ea89e6eca9bf6e1ae01db3ff2d8fef9e5e90b2a1454fc94912edba",
  "kernelspec": {
   "display_name": "Python 3 (ipykernel)",
   "language": "python",
   "name": "python3"
  },
  "language_info": {
   "codemirror_mode": {
    "name": "ipython",
    "version": 3
   },
   "file_extension": ".py",
   "mimetype": "text/x-python",
   "name": "python",
   "nbconvert_exporter": "python",
   "pygments_lexer": "ipython3",
   "version": "3.12.4"
  }
 },
 "nbformat": 4,
 "nbformat_minor": 4
}
