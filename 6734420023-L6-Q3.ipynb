{
 "cells": [
  {
   "cell_type": "markdown",
   "metadata": {
    "deletable": false,
    "editable": false,
    "nbgrader": {
     "cell_type": "markdown",
     "checksum": "f079536074d7ac81b52f169b8a1a7a11",
     "grade": false,
     "grade_id": "cell-dbf37dcea5d7dc5c",
     "locked": true,
     "schema_version": 3,
     "solution": false,
     "task": false
    }
   },
   "source": [
    "## Q3\n",
    "จงเขียนโปรแกรมที่อ่านไฟล์ studentScore.txt ที่มีรายชื่อนักเรียนและคะแนนสอบดังแสดงในตัวอย่างข้างล่างเก็บเป็น dictionary แล้วแสดงชื่อนักเรียนเรียงจากคะแนนสูงสุดไปต่ำสุด กำหนดให้ ไม่มีใครได้คะแนนเท่ากัน"
   ]
  },
  {
   "cell_type": "markdown",
   "metadata": {
    "deletable": false,
    "editable": false,
    "nbgrader": {
     "cell_type": "markdown",
     "checksum": "980b638d8757dd229231d51b2dab95f1",
     "grade": false,
     "grade_id": "cell-03f39e4ccd9fcca1",
     "locked": true,
     "schema_version": 3,
     "solution": false,
     "task": false
    }
   },
   "source": [
    "### ตัวอย่างไฟล์ studentScore1.txt: \n",
    "\n",
    "Piti 25 <br>\n",
    "Mana 32 <br>\n",
    "Ari 19 <br>\n",
    "Suda 28 <br>\n",
    "Somsak 26 <br>"
   ]
  },
  {
   "cell_type": "markdown",
   "metadata": {
    "deletable": false,
    "editable": false,
    "nbgrader": {
     "cell_type": "markdown",
     "checksum": "10c9137f261d24528e220eab2e0554e7",
     "grade": false,
     "grade_id": "cell-c5c873cd4b0d9800",
     "locked": true,
     "schema_version": 3,
     "solution": false,
     "task": false
    }
   },
   "source": [
    "### ตัวอย่างไฟล์ studentScore2.txt: \n",
    "\n",
    "Manee 22 <br>\n",
    "Piti 32 <br>\n",
    "Ton 35 <br>\n",
    "Tree 21 <br>\n",
    "Siri 23 <br>\n",
    "Mon 20 <br>"
   ]
  },
  {
   "cell_type": "markdown",
   "metadata": {
    "deletable": false,
    "editable": false,
    "nbgrader": {
     "cell_type": "markdown",
     "checksum": "50d59113feabc5480970f904acf10f7f",
     "grade": false,
     "grade_id": "cell-e02bd30c7ce943f0",
     "locked": true,
     "schema_version": 3,
     "solution": false,
     "task": false
    }
   },
   "source": [
    "### ตัวอย่างการทำงาน: \n",
    "Choose your studentScore: **studentScore1.txt** <br>\n",
    "Mana <br>\n",
    "Suda <br>\n",
    "Somsak <br>\n",
    "Piti <br>\n",
    "Ari <br>"
   ]
  },
  {
   "cell_type": "markdown",
   "metadata": {
    "deletable": false,
    "editable": false,
    "nbgrader": {
     "cell_type": "markdown",
     "checksum": "2591bedc22b280bef13c953eb493edc4",
     "grade": false,
     "grade_id": "cell-807edfbdea063af2",
     "locked": true,
     "schema_version": 3,
     "solution": false,
     "task": false
    }
   },
   "source": [
    "### ตัวอย่างการทำงาน: \n",
    "Choose your studentScore: **studentScore2.txt** <br>\n",
    "Ton <br>\n",
    "Piti <br>\n",
    "Siri <br>\n",
    "Manee <br>\n",
    "Tree <br>\n",
    "Mon"
   ]
  },
  {
   "cell_type": "code",
   "execution_count": 100,
   "metadata": {
    "deletable": false,
    "nbgrader": {
     "cell_type": "code",
     "checksum": "87d9b295539318aa9221aa375c6b053c",
     "grade": false,
     "grade_id": "name",
     "locked": false,
     "schema_version": 3,
     "solution": true
    }
   },
   "outputs": [],
   "source": [
    "def get_dict(file_name):\n",
    "    ''' สร้าง dictionary จากไฟล์ file_name'''\n",
    "    f = open(file_name)\n",
    "    sd_score = {}\n",
    "\n",
    "    for line in f:\n",
    "        name, score = line.split()\n",
    "        sd_score[name] = int(score)\n",
    "    \n",
    "    return(sd_score)\n",
    "    \n",
    "def run():\n",
    "    ''' รับชื่อไฟล์ที่มีรายชื่อนักเรียนและคะแนนสอบ แล้วแสดงชื่อนักเรียนเรียงจากคะแนนสูงสุดไปต่ำสุด กำหนดให้ ไม่มีใครได้คะแนนเท่ากัน'''\n",
    "    file = input('Choose your studentScore:')\n",
    "    sd_score = get_dict(file)\n",
    "    \n",
    "    score = sorted(list(sd_score.values()))\n",
    "    name = []\n",
    "    for i in score:\n",
    "        for j in sd_score:\n",
    "            if sd_score[j] == i:\n",
    "                name.append(j)\n",
    "                \n",
    "    for i in range(-1,-(len(name)+1),-1):\n",
    "        print(name[i])"
   ]
  },
  {
   "cell_type": "code",
   "execution_count": 102,
   "metadata": {
    "deletable": false,
    "editable": false,
    "nbgrader": {
     "cell_type": "code",
     "checksum": "b7b03893ed0aaf1a2af60ae612b4be37",
     "grade": false,
     "grade_id": "cell-befa13e6c82bd29b",
     "locked": true,
     "schema_version": 3,
     "solution": false,
     "task": false
    }
   },
   "outputs": [
    {
     "name": "stdin",
     "output_type": "stream",
     "text": [
      "Choose your studentScore: studentScore1.txt\n"
     ]
    },
    {
     "name": "stdout",
     "output_type": "stream",
     "text": [
      "Mana\n",
      "Suda\n",
      "Somsak\n",
      "Piti\n",
      "Ari\n"
     ]
    }
   ],
   "source": [
    "'''ตรวจสอบผลลัพธ์ของโปรแกรมด้วยการรันที่ cell นี้'''\n",
    "run()"
   ]
  },
  {
   "cell_type": "code",
   "execution_count": 90,
   "metadata": {
    "deletable": false,
    "editable": false,
    "nbgrader": {
     "cell_type": "code",
     "checksum": "ccd2f5a917e95bee83b49f44fc95e57b",
     "grade": false,
     "grade_id": "partial3",
     "locked": true,
     "schema_version": 3,
     "solution": false,
     "task": false
    }
   },
   "outputs": [],
   "source": [
    "'''ตรวจสอบผลการคำนวณ'''\n",
    "from unittest.mock import patch\n",
    "from io import StringIO\n",
    "\n",
    "def test(inputs,expected_output,f): \n",
    "    with patch('builtins.input', side_effect=inputs), patch('sys.stdout', new_callable=StringIO) as mock_stdout:\n",
    "        f()\n",
    "        assert ''.join(mock_stdout.getvalue().lower().split()) == ''.join(expected_output.lower().split()),mock_stdout.getvalue()\n",
    "def test_easy_print(inputs,expected_output):\n",
    "    with patch('builtins.input', side_effect=inputs), patch('sys.stdout', new_callable=StringIO) as mock_stdout:\n",
    "        run()\n",
    "        assert expected_output in mock_stdout.getvalue(), mock_stdout.getvalue()"
   ]
  },
  {
   "cell_type": "code",
   "execution_count": 92,
   "metadata": {
    "deletable": false,
    "editable": false,
    "nbgrader": {
     "cell_type": "code",
     "checksum": "fb7b41206ef374997497d2c6ae6b3d94",
     "grade": true,
     "grade_id": "cell-baa6351bd29ebb54",
     "locked": true,
     "points": 1,
     "schema_version": 3,
     "solution": false,
     "task": false
    }
   },
   "outputs": [
    {
     "name": "stdout",
     "output_type": "stream",
     "text": [
      "ok\n"
     ]
    }
   ],
   "source": [
    "'''ตรวจสอบการแสดงผลลัพธ์อย่างง่าย'''\n",
    "test_easy_print(inputs=['studentScore1.txt'],expected_output='M')\n",
    "print('ok')"
   ]
  },
  {
   "cell_type": "code",
   "execution_count": 94,
   "metadata": {
    "deletable": false,
    "editable": false,
    "nbgrader": {
     "cell_type": "code",
     "checksum": "fc32b680985d8ff698a7210db8aefc1e",
     "grade": true,
     "grade_id": "cell-159cd7c85a0c7a54",
     "locked": true,
     "points": 1,
     "schema_version": 3,
     "solution": false,
     "task": false
    }
   },
   "outputs": [
    {
     "name": "stdout",
     "output_type": "stream",
     "text": [
      "ok\n"
     ]
    }
   ],
   "source": [
    "'''ตรวจสอบผลการคำนวณและการแสดงผลลัพธ์ให้เหมือนกับโจทย์ที่กำหนดให้'''\n",
    "assert get_dict('studentScore1.txt') == {'Piti': 25, 'Mana': 32, 'Ari': 19, 'Suda': 28, 'Somsak': 26}\n",
    "assert get_dict('studentScore2.txt') == {'Manee': 22, 'Piti': 32, 'Ton': 35, 'Tree': 21, 'Siri': 23, 'Mon': 20}\n",
    "print('ok')"
   ]
  },
  {
   "cell_type": "code",
   "execution_count": 96,
   "metadata": {
    "deletable": false,
    "editable": false,
    "nbgrader": {
     "cell_type": "code",
     "checksum": "d379ed5aa36775264f2e0a9fe93946aa",
     "grade": true,
     "grade_id": "exact",
     "locked": false,
     "points": 1,
     "schema_version": 3,
     "solution": false
    }
   },
   "outputs": [
    {
     "name": "stdout",
     "output_type": "stream",
     "text": [
      "ok\n"
     ]
    }
   ],
   "source": [
    "'''ตรวจสอบผลการคำนวณและการแสดงผลลัพธ์ให้เหมือนกับโจทย์ที่กำหนดให้'''\n",
    "test(['studentScore1.txt'],'Mana\\nSuda\\nSomsak\\nPiti\\nAri\\n',f=run) \n",
    "test(['studentScore2.txt'],'Ton\\nPiti\\nSiri\\nManee\\nTree\\nMon\\n',f=run) \n",
    "print('ok')"
   ]
  },
  {
   "cell_type": "code",
   "execution_count": 98,
   "metadata": {
    "deletable": false,
    "editable": false,
    "nbgrader": {
     "cell_type": "code",
     "checksum": "abc465180e3aef7d16585e65372bfe99",
     "grade": true,
     "grade_id": "cell-9241545eb2b30f20",
     "locked": true,
     "points": 1,
     "schema_version": 3,
     "solution": false,
     "task": false
    }
   },
   "outputs": [
    {
     "data": {
      "text/plain": [
       "'เทสลับ'"
      ]
     },
     "execution_count": 98,
     "metadata": {},
     "output_type": "execute_result"
    }
   ],
   "source": [
    "'เทสลับ'"
   ]
  },
  {
   "cell_type": "code",
   "execution_count": null,
   "metadata": {},
   "outputs": [],
   "source": []
  }
 ],
 "metadata": {
  "BondSan": "22ce49fa5bda9aff1e5ac450fe9bd689486d4ee8fcd5693641e9d0bc671eb3722ccf204ad6503237e949668b9b52876ba7de0f89dd7ecbbfc5da123c349a764a3d36681c971a5b38700446b007af215fb6c1ad0bd4b525928562398228b437a4b214becca701e8efc8271d73c0bec4d7a142d55aa7b71b51e677a0f673f31c1f2a3d74436f7fb190404d38104a0b36cf157fa518e046dd9789b69927f6e14a1fdf858ace96c6e459dc5dab3365af390754ebce3f6ac1de6b944fd3a08ec1f1cc30fc8320341fd4360692aec4e807e0cfc1d374e3a5b4c13d6f92b7f266435413ba36cb3b134a7f116c44992aa89192cabc80641ed9bf5cd77c9f6b42d0d6d79f",
  "kernelspec": {
   "display_name": "Python 3 (ipykernel)",
   "language": "python",
   "name": "python3"
  },
  "language_info": {
   "codemirror_mode": {
    "name": "ipython",
    "version": 3
   },
   "file_extension": ".py",
   "mimetype": "text/x-python",
   "name": "python",
   "nbconvert_exporter": "python",
   "pygments_lexer": "ipython3",
   "version": "3.12.4"
  }
 },
 "nbformat": 4,
 "nbformat_minor": 4
}
